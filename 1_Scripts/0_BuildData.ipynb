{
 "cells": [
  {
   "cell_type": "code",
   "execution_count": 1,
   "metadata": {},
   "outputs": [],
   "source": [
    "import pandas as pd\n",
    "import numpy as np\n",
    "from tqdm import tqdm"
   ]
  },
  {
   "cell_type": "code",
   "execution_count": 2,
   "metadata": {},
   "outputs": [],
   "source": [
    "dict_map_type = {\n",
    "    'clicks' : 1,\n",
    "    'carts' : 2,\n",
    "    'orders' : 3\n",
    "  }"
   ]
  },
  {
   "cell_type": "code",
   "execution_count": 13,
   "metadata": {},
   "outputs": [],
   "source": [
    "def jsonl_to_df(fn):\n",
    "    sessions, aids, tss, types = [], [], [], []\n",
    "    chunks = pd.read_json(fn, lines=True, chunksize=100_000)\n",
    "    # print(len(chunks))\n",
    "    for chunk in tqdm(chunks):\n",
    "        for row_idx, session_data in chunk.iterrows():\n",
    "            num_events = len(session_data.events)\n",
    "            sessions = sessions + ([session_data.session] * num_events)\n",
    "            for event in session_data.events:\n",
    "                aids.append(event['aid'])\n",
    "                tss.append(event['ts'])\n",
    "                types.append(dict_map_type[event['type']])\n",
    "    return pd.DataFrame(data={'session' : sessions, 'aid' : aids, 'ts' : tss, 'type' : types})"
   ]
  },
  {
   "cell_type": "code",
   "execution_count": 14,
   "metadata": {},
   "outputs": [
    {
     "name": "stderr",
     "output_type": "stream",
     "text": [
      "5it [33:52, 406.42s/it]\n"
     ]
    },
    {
     "ename": "KeyboardInterrupt",
     "evalue": "",
     "output_type": "error",
     "traceback": [
      "\u001b[0;31m---------------------------------------------------------------------------\u001b[0m",
      "\u001b[0;31mKeyboardInterrupt\u001b[0m                         Traceback (most recent call last)",
      "File \u001b[0;32m<timed exec>:1\u001b[0m\n",
      "Cell \u001b[0;32mIn [13], line 8\u001b[0m, in \u001b[0;36mjsonl_to_df\u001b[0;34m(fn)\u001b[0m\n\u001b[1;32m      6\u001b[0m \u001b[39mfor\u001b[39;00m row_idx, session_data \u001b[39min\u001b[39;00m chunk\u001b[39m.\u001b[39miterrows():\n\u001b[1;32m      7\u001b[0m     num_events \u001b[39m=\u001b[39m \u001b[39mlen\u001b[39m(session_data\u001b[39m.\u001b[39mevents)\n\u001b[0;32m----> 8\u001b[0m     sessions \u001b[39m=\u001b[39m sessions \u001b[39m+\u001b[39;49m [session_data\u001b[39m.\u001b[39;49msession]\n\u001b[1;32m      9\u001b[0m     \u001b[39mfor\u001b[39;00m event \u001b[39min\u001b[39;00m session_data\u001b[39m.\u001b[39mevents:\n\u001b[1;32m     10\u001b[0m         aids\u001b[39m.\u001b[39mappend(event[\u001b[39m'\u001b[39m\u001b[39maid\u001b[39m\u001b[39m'\u001b[39m])\n",
      "\u001b[0;31mKeyboardInterrupt\u001b[0m: "
     ]
    }
   ],
   "source": [
    "%%time\n",
    "\n",
    "df_train = jsonl_to_df('../0_Data/train.jsonl')\n",
    "df_train.type = df_train.type.astype(np.uint8)\n",
    "df_train.to_parquet('../0_Data/data_optimized_enric/train.jsonl', index=False)"
   ]
  },
  {
   "cell_type": "code",
   "execution_count": null,
   "metadata": {},
   "outputs": [],
   "source": [
    "%%time\n",
    "\n",
    "df_train = jsonl_to_df('../0_Data/test.jsonl')\n",
    "df_train.type = df_train.type.astype(np.uint8)\n",
    "df_train.to_parquet('../0_Data/data_optimized_enric/test.jsonl', index=False)"
   ]
  },
  {
   "cell_type": "code",
   "execution_count": null,
   "metadata": {},
   "outputs": [],
   "source": []
  }
 ],
 "metadata": {
  "kernelspec": {
   "display_name": "Python 3.8.13 ('py38_tensorflow')",
   "language": "python",
   "name": "python3"
  },
  "language_info": {
   "codemirror_mode": {
    "name": "ipython",
    "version": 3
   },
   "file_extension": ".py",
   "mimetype": "text/x-python",
   "name": "python",
   "nbconvert_exporter": "python",
   "pygments_lexer": "ipython3",
   "version": "3.8.13"
  },
  "orig_nbformat": 4,
  "vscode": {
   "interpreter": {
    "hash": "f0432fa0070c5c9f7d9e158f590013ccc765eb84f02e6f69521746370c3bf6c2"
   }
  }
 },
 "nbformat": 4,
 "nbformat_minor": 2
}
